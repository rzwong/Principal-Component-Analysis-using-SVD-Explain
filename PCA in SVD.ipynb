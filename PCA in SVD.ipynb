{
 "cells": [
  {
   "cell_type": "markdown",
   "metadata": {},
   "source": [
    "## Principal Component Analysis using SVD: Explain\n",
    "\n",
    "Author: RZ Wong\n",
    "Date: 29th May 2020\n",
    "\n",
    "This document explains the PCA constructs in Singular Value Decomposition (SVD) using sklearn.decomposition.PCA library.\n",
    "\n",
    "Demonstrate PCA on the iris dataset."
   ]
  },
  {
   "cell_type": "code",
   "execution_count": 2,
   "metadata": {},
   "outputs": [],
   "source": [
    "# import libraries\n",
    "import numpy as np\n",
    "import pandas as pd\n",
    "\n",
    "import matplotlib.pyplot as plt\n",
    "import pylab as plt\n",
    "import seaborn as sb\n",
    "from IPython.display import Image\n",
    "from IPython.core.display import HTML\n",
    "from pylab import rcParams\n",
    "\n",
    "import sklearn\n",
    "from sklearn import decomposition\n",
    "from sklearn.decomposition import PCA\n",
    "from sklearn import datasets\n",
    "\n",
    "from scipy import linalg"
   ]
  },
  {
   "cell_type": "code",
   "execution_count": 145,
   "metadata": {},
   "outputs": [],
   "source": [
    "# load dataset\n",
    "iris = datasets.load_iris()\n",
    "X = iris.data\n",
    "\n",
    "variable_names = iris.feature_names"
   ]
  },
  {
   "cell_type": "code",
   "execution_count": 146,
   "metadata": {},
   "outputs": [
    {
     "data": {
      "text/plain": [
       "array([[5.1, 3.5, 1.4, 0.2],\n",
       "       [4.9, 3. , 1.4, 0.2],\n",
       "       [4.7, 3.2, 1.3, 0.2],\n",
       "       [4.6, 3.1, 1.5, 0.2],\n",
       "       [5. , 3.6, 1.4, 0.2],\n",
       "       [5.4, 3.9, 1.7, 0.4],\n",
       "       [4.6, 3.4, 1.4, 0.3],\n",
       "       [5. , 3.4, 1.5, 0.2],\n",
       "       [4.4, 2.9, 1.4, 0.2],\n",
       "       [4.9, 3.1, 1.5, 0.1]])"
      ]
     },
     "execution_count": 146,
     "metadata": {},
     "output_type": "execute_result"
    }
   ],
   "source": [
    "# display dataset 0 to 10 rows\n",
    "X[0:10,]"
   ]
  },
  {
   "cell_type": "code",
   "execution_count": 147,
   "metadata": {},
   "outputs": [],
   "source": [
    "# PCA\n",
    "pca = decomposition.PCA()       # set parameters for PCA, default will return all components\n",
    "X_pca = pca.fit_transform(X)    # apply PCA on data X, return the PC scores stored in X_pca"
   ]
  },
  {
   "cell_type": "code",
   "execution_count": 151,
   "metadata": {},
   "outputs": [
    {
     "name": "stdout",
     "output_type": "stream",
     "text": [
      "(150, 4) (4,) (4, 4)\n"
     ]
    }
   ],
   "source": [
    "# PCA can be achieved through the eigen-decomposition of the covariance matrix from X.\n",
    "# The eigen-decomposition required a square matrix, but SVD able to works on non-square matrices.\n",
    "\n",
    "# The sklearn.decomposition.PCA library use Singular Value Decomposition. In SVD, the original data matrix X can be represented by U, S, V that can be written as:\n",
    "#             X = USV.T\n",
    "#    where X is the original matrix (n,p)\n",
    "#          U is the left orthogonal matrix (n,r), the eigenvector of np.dot(X, X.T)\n",
    "#          V.T is the right orthogonal matrix (p,r), the eigenvector of np.dot(X.T, X)\n",
    "#          S is the diagonal matrix with r elements (r,), root of the all positive eigenvalues from np.dot(X, X.T) and  \n",
    "#               np.dot(X.T, X), called singlar values\n",
    "\n",
    "\n",
    "# Center data\n",
    "mu = np.mean(X, axis=0)\n",
    "Xtemp = X-mu\n",
    "\n",
    "# run SVD\n",
    "U, s, Vh = linalg.svd(Xtemp, full_matrices=False)\n",
    "\n",
    "# svd_flip\n",
    "max_abs_cols = np.argmax(np.abs(U), axis=0)\n",
    "signs = np.sign(U[max_abs_cols, range(U.shape[1])])\n",
    "U *= signs\n",
    "Vh *= signs[:, np.newaxis]\n",
    "\n",
    "# print shape of U, S, V\n",
    "print(U.shape, s.shape, Vh.shape)"
   ]
  },
  {
   "cell_type": "code",
   "execution_count": 158,
   "metadata": {},
   "outputs": [
    {
     "name": "stdout",
     "output_type": "stream",
     "text": [
      "Self computed vs the Function computed singular value:\n",
      "[ True  True  True  True]\n",
      "\n",
      "Self computed vs the Function computed explained variance:\n",
      "[ True  True  True  True]\n"
     ]
    }
   ],
   "source": [
    "# Since eigenvalues (from the covariance eigen-decomposition) are the variance of the respective PC, \n",
    "# the singular value (from SVD) related to the eigenvalues (lambda) through:\n",
    "#             lambda = s**2 / (n-1)\n",
    "\n",
    "\n",
    "# check the above statement\n",
    "print(\"Self computed vs the Function computed singular value:\")\n",
    "print(s == pca.singular_values_)\n",
    "\n",
    "ev1 = (pca.singular_values_**2) / (X.shape[0]-1)\n",
    "ev2 = pca.explained_variance_\n",
    "print(\"\\nSelf computed vs the Function computed explained variance:\")\n",
    "print(sv == ev)"
   ]
  },
  {
   "cell_type": "code",
   "execution_count": 127,
   "metadata": {},
   "outputs": [
    {
     "name": "stdout",
     "output_type": "stream",
     "text": [
      "Matrix X_pca\n",
      "\n",
      "Number of components\t\t:  4\n",
      "Explained variance\t\t:  [4.22824171 0.24267075 0.0782095  0.02383509]\n",
      "Explained variance Sum\t\t:  4.5729570469798695\n",
      "\n",
      "Explained Variance Ratio\t:  [0.92461872 0.05306648 0.01710261 0.00521218]\n",
      "Explained vatiance ratio Sum\t:  1.0\n",
      "\n",
      "PCA finds a projection that maximizes that total variance of the projected data.\n",
      "The first principal component is the direction in space along which projections have the largest variance\n"
     ]
    }
   ],
   "source": [
    "# thus the explained variance for the each components\n",
    "print(\"Matrix X_pca\")\n",
    "print()\n",
    "print(\"Number of components\\t\\t: \", pca.n_components_)\n",
    "print(\"Explained variance\\t\\t: \", pca.explained_variance_)\n",
    "print(\"Explained variance Sum\\t\\t: \", pca.explained_variance_.sum())\n",
    "print()\n",
    "print(\"Explained Variance Ratio\\t: \", pca.explained_variance_ratio_)\n",
    "print(\"Explained vatiance ratio Sum\\t: \", pca.explained_variance_ratio_.sum())\n",
    "\n",
    "print()\n",
    "print(\"PCA finds a projection that maximizes that total variance of the projected data.\")\n",
    "print(\"The first principal component is the direction in space along which projections have the largest variance\")"
   ]
  },
  {
   "cell_type": "code",
   "execution_count": 128,
   "metadata": {},
   "outputs": [
    {
     "name": "stdout",
     "output_type": "stream",
     "text": [
      "Matrix X\n",
      "\n",
      "Number of features\t\t:  4\n",
      "Variance\t\t\t:  [0.68569351 0.18997942 3.11627785 0.58100626]\n",
      "Variance Sum\t\t\t:  4.572957046979867\n",
      "\n",
      "We can see that the total variance of original matrix X and the total variance of X_pca are the same,\n",
      "but the variance in X_pca has been maximize, which the first PC holds most of the variance.\n"
     ]
    }
   ],
   "source": [
    "# check the variance of the original data X\n",
    "print(\"Matrix X\")\n",
    "print()\n",
    "print(\"Number of features\\t\\t: \", X.shape[1])\n",
    "print(\"Variance\\t\\t\\t: \", np.var(X, axis=0, ddof=1))\n",
    "print(\"Variance Sum\\t\\t\\t: \", np.var(X, axis=0, ddof=1).sum())\n",
    "\n",
    "print()\n",
    "print(\"We can see that the total variance of original matrix X and the total variance of X_pca are the same,\")\n",
    "print(\"but the variance in X_pca has been maximize, which the first PC holds most of the variance.\")\n",
    "\n",
    "# print()\n",
    "# print(\"PCA is a procedure for reducing the dimentionality of the feature space\")\n",
    "# print(\"by representing it with a few orthogonal (uncorrelated) variables that\")\n",
    "# print(\"capture most of its variability.\")"
   ]
  },
  {
   "cell_type": "code",
   "execution_count": 129,
   "metadata": {},
   "outputs": [],
   "source": [
    "# dimensionality reduction using PCA\n",
    "pca95 = decomposition.PCA(0.95)           # we want to retain 95% of total variance only\n",
    "X_pca95 = pca95.fit_transform(X)"
   ]
  },
  {
   "cell_type": "code",
   "execution_count": 130,
   "metadata": {},
   "outputs": [
    {
     "name": "stdout",
     "output_type": "stream",
     "text": [
      "Matrix X_pca95\n",
      "\n",
      "Number of components\t\t:  2\n",
      "Explained variance\t\t:  [4.22824171 0.24267075]\n",
      "Explained Variance Ratio\t:  [0.92461872 0.05306648]\n",
      "Explained vatiance ratio Sum\t:  0.9776852063187949\n",
      "\n",
      "Dimension has reduced from 4 to 2.\n",
      "2 components able to explain 97.77% variance of the original data.\n"
     ]
    }
   ],
   "source": [
    "print(\"Matrix X_pca\")\n",
    "print()\n",
    "print(\"Number of components\\t\\t: \", pca95.n_components_)\n",
    "print(\"Explained variance\\t\\t: \", pca95.explained_variance_)\n",
    "print(\"Explained Variance Ratio\\t: \", pca95.explained_variance_ratio_)\n",
    "print(\"Explained vatiance ratio Sum\\t: \", pca95.explained_variance_ratio_.sum())\n",
    "\n",
    "print()\n",
    "print(\"Dimension has reduced from 4 to 2.\")\n",
    "print(\"2 components able to explain 97.77% variance of the original data.\")"
   ]
  },
  {
   "cell_type": "code",
   "execution_count": 159,
   "metadata": {},
   "outputs": [
    {
     "name": "stdout",
     "output_type": "stream",
     "text": [
      "Mean squared error (all variance retained):  1.0467775915134617e-30\n",
      "Mean squared error (95% variance retained):  0.02534107393239826\n",
      "\n",
      "We can see there are some information lost if less variances are retained as the error will become more.\n"
     ]
    }
   ],
   "source": [
    "# Accordingly,\n",
    "# we want to minimize the sum of squared projection error.\n",
    "# approximating the data points using a representating with restricted number of M < D\n",
    "\n",
    "X_proj = pca.inverse_transform(X_pca)       # data reconstruction\n",
    "X_proj95 = pca95.inverse_transform(X_pca95)\n",
    "\n",
    "from sklearn.metrics import mean_squared_error\n",
    "# loss = ((X - X_proj) ** 2).mean()  # mean squared error\n",
    "\n",
    "mse = mean_squared_error(X, X_proj)\n",
    "mse95 = mean_squared_error(X, X_proj95)\n",
    "\n",
    "print(\"Mean squared error (all variance retained): \", mse)\n",
    "print(\"Mean squared error (95% variance retained): \", mse95)\n",
    "\n",
    "print()\n",
    "print(\"We can see there are some information lost if less variances are retained as the error will become more.\")"
   ]
  },
  {
   "cell_type": "code",
   "execution_count": null,
   "metadata": {},
   "outputs": [],
   "source": [
    "# Source / References:\n",
    "# https://www.youtube.com/watch?v=pcUPelQ5bMM&t=1s\n",
    "# https://github.com/scikit-learn/scikit-learn/blob/fd237278e/sklearn/decomposition/_pca.py#L112\n",
    "# https://stats.stackexchange.com/questions/134282/relationship-between-svd-and-pca-how-to-use-svd-to-perform-pca\n",
    "# https://stats.stackexchange.com/questions/22569/pca-and-proportion-of-variance-explained\n",
    "# https://www.stat.cmu.edu/~cshalizi/uADA/12/lectures/ch18.pdf\n",
    "# http://cda.psych.uiuc.edu/statistical_learning_course/Jolliffe%20I.%20Principal%20Component%20Analysis%20(2ed.,%20Springer,%202002)(518s)_MVsa_.pdf"
   ]
  },
  {
   "cell_type": "markdown",
   "metadata": {},
   "source": [
    "# Addition"
   ]
  },
  {
   "cell_type": "code",
   "execution_count": 161,
   "metadata": {},
   "outputs": [],
   "source": [
    "# In SVD, X = USV.T\n",
    "# the principal components matrix are obtained thorugh: Xnew = US\n",
    "# However, the V.T stored in pca.components that holds the information of features of the original dataset.\n",
    "\n",
    "# On the other hand,\n",
    "# the transformation map the data vector X from the original space to a new space X_new\n",
    "# by applying V on X, where:   X_new = XV"
   ]
  },
  {
   "cell_type": "code",
   "execution_count": 183,
   "metadata": {},
   "outputs": [
    {
     "name": "stdout",
     "output_type": "stream",
     "text": [
      "[-2.74534286 -0.31829898  0.03155937  0.07557582]\n",
      "[-2.74534286 -0.31829898  0.03155937  0.07557582]\n"
     ]
    }
   ],
   "source": [
    "# Manually fit transform\n",
    "mu = np.mean(X, axis=0)\n",
    "V = pca.components_.copy()\n",
    "\n",
    "Vplus = np.linalg.pinv(V)\n",
    "Xnew = np.dot((X-mu), Vplus)\n",
    "\n",
    "# check\n",
    "print(Xnew[3])\n",
    "print(X_pca[3])"
   ]
  },
  {
   "cell_type": "code",
   "execution_count": 184,
   "metadata": {},
   "outputs": [
    {
     "name": "stdout",
     "output_type": "stream",
     "text": [
      "[4.9 3.1 1.5 0.1]\n",
      "[4.9 3.1 1.5 0.1]\n"
     ]
    }
   ],
   "source": [
    "# Manually inverse transform\n",
    "Xapprox = np.dot(X_pca, V) + mu\n",
    "\n",
    "# check\n",
    "print(Xapprox[9])\n",
    "print(X[9])"
   ]
  },
  {
   "cell_type": "code",
   "execution_count": 160,
   "metadata": {},
   "outputs": [
    {
     "name": "stdout",
     "output_type": "stream",
     "text": [
      "In matrix V, we can check the information of components are come from which features.\n"
     ]
    },
    {
     "data": {
      "text/html": [
       "<div>\n",
       "<style scoped>\n",
       "    .dataframe tbody tr th:only-of-type {\n",
       "        vertical-align: middle;\n",
       "    }\n",
       "\n",
       "    .dataframe tbody tr th {\n",
       "        vertical-align: top;\n",
       "    }\n",
       "\n",
       "    .dataframe thead th {\n",
       "        text-align: right;\n",
       "    }\n",
       "</style>\n",
       "<table border=\"1\" class=\"dataframe\">\n",
       "  <thead>\n",
       "    <tr style=\"text-align: right;\">\n",
       "      <th></th>\n",
       "      <th>sepal length (cm)</th>\n",
       "      <th>sepal width (cm)</th>\n",
       "      <th>petal length (cm)</th>\n",
       "      <th>petal width (cm)</th>\n",
       "    </tr>\n",
       "  </thead>\n",
       "  <tbody>\n",
       "    <tr>\n",
       "      <th>0</th>\n",
       "      <td>0.361387</td>\n",
       "      <td>-0.084523</td>\n",
       "      <td>0.856671</td>\n",
       "      <td>0.358289</td>\n",
       "    </tr>\n",
       "    <tr>\n",
       "      <th>1</th>\n",
       "      <td>0.656589</td>\n",
       "      <td>0.730161</td>\n",
       "      <td>-0.173373</td>\n",
       "      <td>-0.075481</td>\n",
       "    </tr>\n",
       "    <tr>\n",
       "      <th>2</th>\n",
       "      <td>-0.582030</td>\n",
       "      <td>0.597911</td>\n",
       "      <td>0.076236</td>\n",
       "      <td>0.545831</td>\n",
       "    </tr>\n",
       "    <tr>\n",
       "      <th>3</th>\n",
       "      <td>-0.315487</td>\n",
       "      <td>0.319723</td>\n",
       "      <td>0.479839</td>\n",
       "      <td>-0.753657</td>\n",
       "    </tr>\n",
       "  </tbody>\n",
       "</table>\n",
       "</div>"
      ],
      "text/plain": [
       "   sepal length (cm)  sepal width (cm)  petal length (cm)  petal width (cm)\n",
       "0           0.361387         -0.084523           0.856671          0.358289\n",
       "1           0.656589          0.730161          -0.173373         -0.075481\n",
       "2          -0.582030          0.597911           0.076236          0.545831\n",
       "3          -0.315487          0.319723           0.479839         -0.753657"
      ]
     },
     "execution_count": 160,
     "metadata": {},
     "output_type": "execute_result"
    }
   ],
   "source": [
    "print(\"In matrix V, we can check the information of components are come from which features.\")\n",
    "comps = pd.DataFrame(pca.components_, columns=variable_names)\n",
    "comps"
   ]
  },
  {
   "cell_type": "code",
   "execution_count": 69,
   "metadata": {},
   "outputs": [
    {
     "data": {
      "text/plain": [
       "<matplotlib.axes._subplots.AxesSubplot at 0x155e4234640>"
      ]
     },
     "execution_count": 69,
     "metadata": {},
     "output_type": "execute_result"
    },
    {
     "data": {
      "image/png": "[encoded data removed]",
      "text/plain": [
       "<Figure size 360x288 with 2 Axes>"
      ]
     },
     "metadata": {},
     "output_type": "display_data"
    }
   ],
   "source": [
    "# visualize heatmap to check intensity\n",
    "\n",
    "%matplotlib inline\n",
    "rcParams['figure.figsize'] = 5, 4\n",
    "sb.set_style('whitegrid')\n",
    "\n",
    "sb.heatmap(comps)"
   ]
  }
 ],
 "metadata": {
  "kernelspec": {
   "display_name": "Python 3",
   "language": "python",
   "name": "python3"
  },
  "language_info": {
   "codemirror_mode": {
    "name": "ipython",
    "version": 3
   },
   "file_extension": ".py",
   "mimetype": "text/x-python",
   "name": "python",
   "nbconvert_exporter": "python",
   "pygments_lexer": "ipython3",
   "version": "3.8.1"
  }
 },
 "nbformat": 4,
 "nbformat_minor": 4
}
